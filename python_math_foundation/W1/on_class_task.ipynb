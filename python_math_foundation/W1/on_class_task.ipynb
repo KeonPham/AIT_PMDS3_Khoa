{
 "cells": [
  {
   "cell_type": "code",
   "execution_count": 1,
   "metadata": {},
   "outputs": [
    {
     "name": "stdout",
     "output_type": "stream",
     "text": [
      "hello world\n"
     ]
    }
   ],
   "source": [
    "print('hello world')"
   ]
  },
  {
   "cell_type": "code",
   "execution_count": 5,
   "metadata": {},
   "outputs": [
    {
     "name": "stdout",
     "output_type": "stream",
     "text": [
      "4.0\n"
     ]
    }
   ],
   "source": [
    "print(3.+1)"
   ]
  },
  {
   "cell_type": "code",
   "execution_count": 7,
   "metadata": {},
   "outputs": [],
   "source": [
    "x = 2\n",
    "x +=1"
   ]
  },
  {
   "cell_type": "code",
   "execution_count": 8,
   "metadata": {},
   "outputs": [
    {
     "data": {
      "text/plain": [
       "3"
      ]
     },
     "execution_count": 8,
     "metadata": {},
     "output_type": "execute_result"
    }
   ],
   "source": [
    "x"
   ]
  },
  {
   "cell_type": "code",
   "execution_count": 12,
   "metadata": {},
   "outputs": [
    {
     "name": "stdout",
     "output_type": "stream",
     "text": [
      "<built-in method capitalize of str object at 0x105ef32f0>\n"
     ]
    }
   ],
   "source": [
    "x = 'hello'\n",
    "y = 'world'\n",
    "z =  (x + \" \" + y)\n",
    "print(z.capitalize)"
   ]
  },
  {
   "cell_type": "code",
   "execution_count": 16,
   "metadata": {},
   "outputs": [
    {
     "name": "stdout",
     "output_type": "stream",
     "text": [
      "Hello world\n"
     ]
    }
   ],
   "source": [
    "print(z.capitalize())"
   ]
  },
  {
   "cell_type": "code",
   "execution_count": 20,
   "metadata": {},
   "outputs": [],
   "source": [
    "x = [x for x in range(15) if x %2 == 0 ]"
   ]
  },
  {
   "cell_type": "code",
   "execution_count": 21,
   "metadata": {},
   "outputs": [
    {
     "data": {
      "text/plain": [
       "[0, 2, 4, 6, 8, 10, 12, 14]"
      ]
     },
     "execution_count": 21,
     "metadata": {},
     "output_type": "execute_result"
    }
   ],
   "source": [
    "x"
   ]
  },
  {
   "cell_type": "code",
   "execution_count": 30,
   "metadata": {},
   "outputs": [],
   "source": [
    "x = [1, 2, 3, 5]"
   ]
  },
  {
   "cell_type": "code",
   "execution_count": 36,
   "metadata": {},
   "outputs": [
    {
     "data": {
      "text/plain": [
       "[3, 5]"
      ]
     },
     "execution_count": 36,
     "metadata": {},
     "output_type": "execute_result"
    }
   ],
   "source": [
    "x[-2:]"
   ]
  },
  {
   "cell_type": "code",
   "execution_count": 53,
   "metadata": {},
   "outputs": [
    {
     "name": "stdout",
     "output_type": "stream",
     "text": [
      "all meet conditon\n"
     ]
    }
   ],
   "source": [
    "x, y, z = 3, 10, 9\n",
    "\n",
    "if (x<5 and y >5 and z!=10):\n",
    "    print('all meet conditon')\n",
    "else:\n",
    "    print('not meet all conditon')"
   ]
  },
  {
   "cell_type": "code",
   "execution_count": 56,
   "metadata": {},
   "outputs": [
    {
     "data": {
      "text/plain": [
       "1.0"
      ]
     },
     "execution_count": 56,
     "metadata": {},
     "output_type": "execute_result"
    }
   ],
   "source": [
    "import math\n",
    "math.cos(2 * math.pi)"
   ]
  },
  {
   "cell_type": "code",
   "execution_count": 57,
   "metadata": {},
   "outputs": [
    {
     "name": "stdout",
     "output_type": "stream",
     "text": [
      "20\n"
     ]
    }
   ],
   "source": [
    "num = input()\n",
    "print(int(num) + 10)"
   ]
  },
  {
   "cell_type": "code",
   "execution_count": 65,
   "metadata": {},
   "outputs": [
    {
     "data": {
      "text/plain": [
       "7"
      ]
     },
     "execution_count": 65,
     "metadata": {},
     "output_type": "execute_result"
    }
   ],
   "source": [
    "x, y = \"3\", \"4\"\n",
    "x = int(x)\n",
    "y = int(y)\n",
    "x+y"
   ]
  },
  {
   "cell_type": "code",
   "execution_count": 68,
   "metadata": {},
   "outputs": [
    {
     "name": "stdout",
     "output_type": "stream",
     "text": [
      "my variable x = 10 where 10 is from the x value\n"
     ]
    }
   ],
   "source": [
    "x = 10 \n",
    "print(f'my variable x = {x} where 10 is from the x value')"
   ]
  },
  {
   "cell_type": "code",
   "execution_count": 72,
   "metadata": {},
   "outputs": [
    {
     "data": {
      "text/plain": [
       "1"
      ]
     },
     "execution_count": 72,
     "metadata": {},
     "output_type": "execute_result"
    }
   ],
   "source": [
    "int(10 % 4 /2)"
   ]
  },
  {
   "cell_type": "code",
   "execution_count": 74,
   "metadata": {},
   "outputs": [
    {
     "name": "stdout",
     "output_type": "stream",
     "text": [
      "<class 'str'>\n"
     ]
    }
   ],
   "source": [
    "user_input = input()\n",
    "print(type(user_input))"
   ]
  },
  {
   "cell_type": "code",
   "execution_count": 92,
   "metadata": {},
   "outputs": [
    {
     "name": "stdout",
     "output_type": "stream",
     "text": [
      "Chaky,John,Tom\n"
     ]
    }
   ],
   "source": [
    "x = \"Chaky\"\n",
    "y = \"John\"\n",
    "z = \"Tom\"\n",
    "xyz = x + \",\" + y + \",\" + z\n",
    "print(xyz)"
   ]
  },
  {
   "cell_type": "code",
   "execution_count": 93,
   "metadata": {},
   "outputs": [
    {
     "name": "stdout",
     "output_type": "stream",
     "text": [
      "Correct password\n"
     ]
    }
   ],
   "source": [
    "num = int(input())\n",
    "password = 10\n",
    "\n",
    "while num != password:\n",
    "    print(\"Wrong password!   Input again\")\n",
    "    num = int(input())\n",
    "print(\"Correct password\")"
   ]
  },
  {
   "cell_type": "code",
   "execution_count": 94,
   "metadata": {},
   "outputs": [],
   "source": [
    "x = [1, 2, 3, 4, 5, 6, 7, 8, 9, 10, 11, 12]"
   ]
  },
  {
   "cell_type": "code",
   "execution_count": 95,
   "metadata": {},
   "outputs": [
    {
     "data": {
      "text/plain": [
       "[1, 2, 3, 4, 5, 6, 7, 8, 9, 10, 11, 12]"
      ]
     },
     "execution_count": 95,
     "metadata": {},
     "output_type": "execute_result"
    }
   ],
   "source": [
    "x[:]"
   ]
  },
  {
   "cell_type": "code",
   "execution_count": 96,
   "metadata": {},
   "outputs": [
    {
     "data": {
      "text/plain": [
       "[4, 5, 6, 7, 8, 9, 10, 11, 12]"
      ]
     },
     "execution_count": 96,
     "metadata": {},
     "output_type": "execute_result"
    }
   ],
   "source": [
    "x[3:]"
   ]
  },
  {
   "cell_type": "code",
   "execution_count": 97,
   "metadata": {},
   "outputs": [
    {
     "data": {
      "text/plain": [
       "[1, 2, 3]"
      ]
     },
     "execution_count": 97,
     "metadata": {},
     "output_type": "execute_result"
    }
   ],
   "source": [
    "x[:3]"
   ]
  },
  {
   "cell_type": "code",
   "execution_count": 99,
   "metadata": {},
   "outputs": [
    {
     "data": {
      "text/plain": [
       "[1, 3, 5, 7, 9, 11]"
      ]
     },
     "execution_count": 99,
     "metadata": {},
     "output_type": "execute_result"
    }
   ],
   "source": [
    "x[0::2]"
   ]
  },
  {
   "cell_type": "code",
   "execution_count": 101,
   "metadata": {},
   "outputs": [
    {
     "data": {
      "text/plain": [
       "[2, 4, 6, 8, 10, 12]"
      ]
     },
     "execution_count": 101,
     "metadata": {},
     "output_type": "execute_result"
    }
   ],
   "source": [
    "x[1::2]"
   ]
  },
  {
   "cell_type": "code",
   "execution_count": 102,
   "metadata": {},
   "outputs": [],
   "source": [
    "product_ID = '0021-3233-3221'"
   ]
  },
  {
   "cell_type": "code",
   "execution_count": 104,
   "metadata": {},
   "outputs": [
    {
     "data": {
      "text/plain": [
       "'0021'"
      ]
     },
     "execution_count": 104,
     "metadata": {},
     "output_type": "execute_result"
    }
   ],
   "source": [
    "department_id = product_ID[:4]\n",
    "department_id"
   ]
  },
  {
   "cell_type": "code",
   "execution_count": 105,
   "metadata": {},
   "outputs": [
    {
     "data": {
      "text/plain": [
       "'3233'"
      ]
     },
     "execution_count": 105,
     "metadata": {},
     "output_type": "execute_result"
    }
   ],
   "source": [
    "category_id = product_ID[5:9]\n",
    "category_id"
   ]
  },
  {
   "cell_type": "code",
   "execution_count": 106,
   "metadata": {},
   "outputs": [
    {
     "data": {
      "text/plain": [
       "'3221'"
      ]
     },
     "execution_count": 106,
     "metadata": {},
     "output_type": "execute_result"
    }
   ],
   "source": [
    "prod_id = product_ID[-4:]\n",
    "prod_id"
   ]
  },
  {
   "cell_type": "code",
   "execution_count": 107,
   "metadata": {},
   "outputs": [
    {
     "data": {
      "text/plain": [
       "[0, 1, 2, 3, 4, 5, 6, 7, 8, 9, 10]"
      ]
     },
     "execution_count": 107,
     "metadata": {},
     "output_type": "execute_result"
    }
   ],
   "source": [
    "list(range(11))"
   ]
  },
  {
   "cell_type": "code",
   "execution_count": 110,
   "metadata": {},
   "outputs": [
    {
     "data": {
      "text/plain": [
       "[2, 3, 4, 5]"
      ]
     },
     "execution_count": 110,
     "metadata": {},
     "output_type": "execute_result"
    }
   ],
   "source": [
    "list(range(2, 6))"
   ]
  },
  {
   "cell_type": "code",
   "execution_count": 111,
   "metadata": {},
   "outputs": [
    {
     "data": {
      "text/plain": [
       "[0, 9, 18, 27, 36, 45, 54, 63, 72, 81, 90, 99]"
      ]
     },
     "execution_count": 111,
     "metadata": {},
     "output_type": "execute_result"
    }
   ],
   "source": [
    "list(range(0, 100, 9))"
   ]
  },
  {
   "cell_type": "code",
   "execution_count": 120,
   "metadata": {},
   "outputs": [
    {
     "data": {
      "text/plain": [
       "([3, 6, 9, 12], [-5, 0, 5, 10, 15])"
      ]
     },
     "execution_count": 120,
     "metadata": {},
     "output_type": "execute_result"
    }
   ],
   "source": [
    "first_lst = list(range(3, 13, 3))\n",
    "second_ = list(range(-5, 16, 5))\n"
   ]
  },
  {
   "cell_type": "code",
   "execution_count": 121,
   "metadata": {},
   "outputs": [
    {
     "name": "stdout",
     "output_type": "stream",
     "text": [
      "None\n"
     ]
    }
   ],
   "source": [
    "print(x.extend(y))"
   ]
  },
  {
   "cell_type": "code",
   "execution_count": 125,
   "metadata": {},
   "outputs": [
    {
     "name": "stdout",
     "output_type": "stream",
     "text": [
      "1\n",
      "2\n",
      "3\n"
     ]
    }
   ],
   "source": [
    "x = [1, 2, 3]\n",
    "for i in x:\n",
    "    print(i)"
   ]
  },
  {
   "cell_type": "code",
   "execution_count": 127,
   "metadata": {},
   "outputs": [
    {
     "name": "stdout",
     "output_type": "stream",
     "text": [
      "0\n",
      "1\n",
      "2\n",
      "3\n",
      "4\n",
      "5\n",
      "6\n",
      "7\n",
      "8\n",
      "9\n",
      "10\n"
     ]
    }
   ],
   "source": [
    "x = list(range(11))\n",
    "\n",
    "for item in x:\n",
    "    print(item)"
   ]
  },
  {
   "cell_type": "code",
   "execution_count": 132,
   "metadata": {},
   "outputs": [
    {
     "name": "stdout",
     "output_type": "stream",
     "text": [
      "0 - SWARD\n",
      "1 - MAGIC\n",
      "2 - SHIELD\n"
     ]
    }
   ],
   "source": [
    "X = ['SWARD', \"MAGIC\", \"SHIELD\"]\n",
    "\n",
    "for index, item in enumerate(X):\n",
    "    print(index, item, sep=\" - \")"
   ]
  },
  {
   "cell_type": "code",
   "execution_count": 134,
   "metadata": {},
   "outputs": [
    {
     "name": "stdout",
     "output_type": "stream",
     "text": [
      "6\n"
     ]
    }
   ],
   "source": [
    "import random\n",
    "\n",
    "x = list(range(10))\n",
    "print(random.choice(x))"
   ]
  },
  {
   "cell_type": "code",
   "execution_count": 135,
   "metadata": {},
   "outputs": [
    {
     "name": "stdout",
     "output_type": "stream",
     "text": [
      "list\n"
     ]
    }
   ],
   "source": [
    "dictionaries = [\"python\", \"list\", \"jiraffe\"]\n",
    "secret = random.choice(dictionaries)\n",
    "print(secret)"
   ]
  },
  {
   "cell_type": "code",
   "execution_count": 136,
   "metadata": {},
   "outputs": [
    {
     "name": "stdout",
     "output_type": "stream",
     "text": [
      "['list', 'python']\n"
     ]
    }
   ],
   "source": [
    "print(random.sample(dictionaries, 2))"
   ]
  },
  {
   "cell_type": "code",
   "execution_count": 145,
   "metadata": {},
   "outputs": [
    {
     "name": "stdout",
     "output_type": "stream",
     "text": [
      "[2, 3, 4]\n"
     ]
    }
   ],
   "source": [
    "lst_x = [1, 2, 3]\n",
    "for index, _ in enumerate(lst_x):\n",
    "    lst_x[index] = x[index] + 1\n",
    "print(lst_x)"
   ]
  },
  {
   "cell_type": "code",
   "execution_count": 143,
   "metadata": {},
   "outputs": [
    {
     "data": {
      "text/plain": [
       "[2, 3, 4]"
      ]
     },
     "execution_count": 143,
     "metadata": {},
     "output_type": "execute_result"
    }
   ],
   "source": [
    "new_lst_x = [i + 1 for i in lst_x ]\n",
    "new_lst_x"
   ]
  },
  {
   "cell_type": "code",
   "execution_count": 146,
   "metadata": {},
   "outputs": [],
   "source": [
    "def func(name='chaky', age='25'):\n",
    "    print(name, age, sep='-')"
   ]
  },
  {
   "cell_type": "code",
   "execution_count": 147,
   "metadata": {},
   "outputs": [
    {
     "name": "stdout",
     "output_type": "stream",
     "text": [
      "join-40\n"
     ]
    }
   ],
   "source": [
    "func(age='40', name='join')"
   ]
  },
  {
   "cell_type": "code",
   "execution_count": 148,
   "metadata": {},
   "outputs": [
    {
     "name": "stdout",
     "output_type": "stream",
     "text": [
      "chaky-40\n"
     ]
    }
   ],
   "source": [
    "func(age = '40')"
   ]
  },
  {
   "cell_type": "code",
   "execution_count": 150,
   "metadata": {},
   "outputs": [],
   "source": [
    "def is_palin(text):\n",
    "    return text == text[::-1]"
   ]
  },
  {
   "cell_type": "code",
   "execution_count": 152,
   "metadata": {},
   "outputs": [
    {
     "data": {
      "text/plain": [
       "True"
      ]
     },
     "execution_count": 152,
     "metadata": {},
     "output_type": "execute_result"
    }
   ],
   "source": [
    "is_palin('racecar')"
   ]
  },
  {
   "cell_type": "code",
   "execution_count": 160,
   "metadata": {},
   "outputs": [],
   "source": [
    "# lst_num = [1, 2, 2, 4]\n",
    "def remove_duplicate_num(lst):\n",
    "    return list(set(lst))\n"
   ]
  },
  {
   "cell_type": "code",
   "execution_count": 161,
   "metadata": {},
   "outputs": [
    {
     "data": {
      "text/plain": [
       "[1, 2, 4]"
      ]
     },
     "execution_count": 161,
     "metadata": {},
     "output_type": "execute_result"
    }
   ],
   "source": [
    "remove_duplicate_num([1,2,2,4])"
   ]
  },
  {
   "cell_type": "code",
   "execution_count": 162,
   "metadata": {},
   "outputs": [],
   "source": [
    "def even_check(lst):\n",
    "    even_lst = []\n",
    "    for i in lst:\n",
    "        if i % 2 == 0:\n",
    "            i.append(even_lst)\n",
    "    print(even_lst)"
   ]
  },
  {
   "cell_type": "code",
   "execution_count": 173,
   "metadata": {},
   "outputs": [
    {
     "name": "stdout",
     "output_type": "stream",
     "text": [
      "This is the cirfumferece of this circle 31.40\n",
      "This is the area of this circile 78.50\n"
     ]
    }
   ],
   "source": [
    "class Circle:\n",
    "\n",
    "    PI = 3.14\n",
    "    border = 'black'\n",
    "\n",
    "    def __init__ (self, radius=1, color='red'):\n",
    "        self.radius = radius\n",
    "        self.color = color\n",
    "    \n",
    "    def getCircumference(self):\n",
    "        return self.radius * Circle.PI * 2\n",
    "    \n",
    "    def getArea(self):\n",
    "        return self.PI*self.radius**2\n",
    "\n",
    "c = Circle(radius=5, color='black')\n",
    "\n",
    "print(f\"This is the cirfumferece of this circle {c.getCircumference():.2f}\")\n",
    "print(f\"This is the area of this circle {c.getArea():.2f}\")\n"
   ]
  },
  {
   "cell_type": "code",
   "execution_count": 180,
   "metadata": {},
   "outputs": [
    {
     "data": {
      "text/plain": [
       "14"
      ]
     },
     "execution_count": 180,
     "metadata": {},
     "output_type": "execute_result"
    }
   ],
   "source": [
    "class Rectangle:\n",
    "    def __init__(self, wide, length):\n",
    "        self.wide = wide\n",
    "        self.length = length\n",
    "    \n",
    "    def getArea(self):\n",
    "        return self.wide * self.length\n",
    "    \n",
    "    def getPerimeter(self):\n",
    "        return 2*(self.wide + self.length)\n",
    "\n",
    "    \n",
    "d = Rectangle(wide=2, length=5)\n",
    "\n",
    "d.getArea()\n",
    "d.getPerimeter()\n"
   ]
  },
  {
   "cell_type": "code",
   "execution_count": 182,
   "metadata": {},
   "outputs": [
    {
     "name": "stdout",
     "output_type": "stream",
     "text": [
      "division by zero\n",
      "hello\n"
     ]
    }
   ],
   "source": [
    "a = 0; b=3\n",
    "try:\n",
    "    c = b/a\n",
    "except Exception as e:\n",
    "    print(e)\n",
    "print('hello')"
   ]
  },
  {
   "cell_type": "code",
   "execution_count": 191,
   "metadata": {},
   "outputs": [],
   "source": [
    "def division (first_num, second_num):\n",
    "    try:\n",
    "        divide = first_num / second_num\n",
    "    except ZeroDivisionError:\n",
    "        print(f\"The divisor should not be {second_num}\")\n",
    "    return divide"
   ]
  },
  {
   "cell_type": "code",
   "execution_count": 192,
   "metadata": {},
   "outputs": [
    {
     "name": "stdout",
     "output_type": "stream",
     "text": [
      "division by zero\n"
     ]
    },
    {
     "ename": "UnboundLocalError",
     "evalue": "cannot access local variable 'divide' where it is not associated with a value",
     "output_type": "error",
     "traceback": [
      "\u001b[0;31m---------------------------------------------------------------------------\u001b[0m",
      "\u001b[0;31mUnboundLocalError\u001b[0m                         Traceback (most recent call last)",
      "Cell \u001b[0;32mIn[192], line 1\u001b[0m\n\u001b[0;32m----> 1\u001b[0m division(\u001b[38;5;241m2\u001b[39m, \u001b[38;5;241m0\u001b[39m)\n",
      "Cell \u001b[0;32mIn[191], line 6\u001b[0m, in \u001b[0;36mdivision\u001b[0;34m(first_num, second_num)\u001b[0m\n\u001b[1;32m      4\u001b[0m \u001b[38;5;28;01mexcept\u001b[39;00m \u001b[38;5;167;01mException\u001b[39;00m \u001b[38;5;28;01mas\u001b[39;00m e:\n\u001b[1;32m      5\u001b[0m     \u001b[38;5;28mprint\u001b[39m(e)\n\u001b[0;32m----> 6\u001b[0m \u001b[38;5;28;01mreturn\u001b[39;00m divide\n",
      "\u001b[0;31mUnboundLocalError\u001b[0m: cannot access local variable 'divide' where it is not associated with a value"
     ]
    }
   ],
   "source": [
    "division(2, 0)"
   ]
  },
  {
   "cell_type": "code",
   "execution_count": 199,
   "metadata": {},
   "outputs": [
    {
     "name": "stdout",
     "output_type": "stream",
     "text": [
      "This is a sample text file for trying file handling operations.\n",
      "Hello\n",
      "My name is Y\n",
      "What is your name?\n"
     ]
    }
   ],
   "source": [
    "f = open(\"sample_coka.txt\", 'r')\n",
    "print(f.read())"
   ]
  },
  {
   "cell_type": "code",
   "execution_count": 202,
   "metadata": {},
   "outputs": [
    {
     "name": "stdout",
     "output_type": "stream",
     "text": [
      "\n"
     ]
    }
   ],
   "source": [
    "print(f.readline())"
   ]
  },
  {
   "cell_type": "code",
   "execution_count": 207,
   "metadata": {},
   "outputs": [
    {
     "name": "stdout",
     "output_type": "stream",
     "text": [
      "chaky\n",
      "aiman\n",
      "saw\n"
     ]
    }
   ],
   "source": [
    "lst_of_names =((\"chaky\", 100, \"male\"), (\"aiman\", 200, \"male\"), (\"saw\", 300, \"male\"))\n",
    "for a, _, _ in lst_of_names:\n",
    "    print(a)"
   ]
  },
  {
   "cell_type": "code",
   "execution_count": 208,
   "metadata": {},
   "outputs": [],
   "source": [
    "names = {\n",
    "    \"Tom\": \"Male\",\n",
    "    \"May\": \"Female\",\n",
    "    \"Sarah\": \"Female\"\n",
    "}"
   ]
  },
  {
   "cell_type": "code",
   "execution_count": 220,
   "metadata": {},
   "outputs": [
    {
     "name": "stdout",
     "output_type": "stream",
     "text": [
      "Tom\n",
      "May\n",
      "Sarah\n"
     ]
    }
   ],
   "source": [
    "empty_dict = dict()\n",
    "empty_dict['Tom'] = 'Male'\n",
    "empty_dict['May'] = 'Female'\n",
    "empty_dict['Sarah'] = 'Female'\n",
    "\n",
    "for i in empty_dict:\n",
    "    print(i)\n"
   ]
  },
  {
   "cell_type": "code",
   "execution_count": 222,
   "metadata": {},
   "outputs": [
    {
     "name": "stdout",
     "output_type": "stream",
     "text": [
      "Tom:Male\n",
      "May:Female\n",
      "Sarah:Female\n"
     ]
    }
   ],
   "source": [
    "for key, values in empty_dict.items():\n",
    "    print(key, values, sep=\":\")"
   ]
  },
  {
   "cell_type": "code",
   "execution_count": 224,
   "metadata": {},
   "outputs": [
    {
     "name": "stdout",
     "output_type": "stream",
     "text": [
      "0:May:Female\n",
      "1:Sarah:Female\n",
      "2:Tom:Male\n"
     ]
    }
   ],
   "source": [
    "for index, (key, value) in enumerate(sorted(empty_dict.items())):\n",
    "    print(index, key, value, sep=\":\")"
   ]
  },
  {
   "cell_type": "code",
   "execution_count": 240,
   "metadata": {},
   "outputs": [
    {
     "name": "stdout",
     "output_type": "stream",
     "text": [
      "less than 5\n"
     ]
    }
   ],
   "source": [
    "#Homework 1.1\n",
    "\n",
    "def input_5_checking ():\n",
    "    user_input = int(input('Please enter your number: '))\n",
    "    if user_input < 5:\n",
    "        print('less than 5')\n",
    "    else:\n",
    "        print('higher than that')\n",
    "\n",
    "input_5_checking()"
   ]
  },
  {
   "cell_type": "code",
   "execution_count": 245,
   "metadata": {},
   "outputs": [
    {
     "name": "stdout",
     "output_type": "stream",
     "text": [
      "This is a guessing game where the system will generate a target number,\n",
      "and you will enter a guess until you meet the target. While inputting your guesses, there will be hints to guide you.\n"
     ]
    }
   ],
   "source": [
    "#Homework 1.2\n",
    "\n",
    "import random\n",
    "\n",
    "target_number = random.randint(1, 100)\n",
    "\n",
    "def guessing_game():\n",
    "    print('This is a guessing game where the system will generate a target number,\\n'\n",
    "          'and you will enter a guess until you meet the target. While inputting your '\n",
    "          'guesses, there will be hints to guide you.')\n",
    "    while True:\n",
    "        guess_input = int(input('Please enter your guess here: '))\n",
    "        if guess_input > target_number:\n",
    "            print('Lesser than that')\n",
    "        elif guess_input < target_number:\n",
    "            print('Bigger than that')\n",
    "        else:\n",
    "            print('You are correct')\n",
    "            break\n",
    "\n",
    "guessing_game()"
   ]
  },
  {
   "cell_type": "code",
   "execution_count": 1,
   "metadata": {},
   "outputs": [
    {
     "name": "stdout",
     "output_type": "stream",
     "text": [
      "Python\n",
      "cool\n",
      "is\n",
      "chaklaM\n",
      "Python\n",
      "[0, 1, 2, 3, 4, 5, 6, 7, 8, 9]\n",
      "[1, 2, 3, 4, 5, 6, 7, 8, 9]\n",
      "[-9, -7, -5, -3, -1, 1, 3, 5, 7, 9]\n",
      "[-9, -7, -5, -3, -1, 1, 3, 5, 7, 9, 10]\n",
      "4\n",
      "[-9, -7, -5, -3, -1, 1, 3, 5, 7, 9]\n"
     ]
    }
   ],
   "source": [
    "#List data structure Homework\n",
    "\n",
    "string = \"Python is cool\"\n",
    "print(string[:6])  # Output: Python\n",
    "print(string[-4:]) #Output: cool\n",
    "print(string[7:9])  # Output: is\n",
    "\n",
    "string2 = \"Malkahc\"\n",
    "print(string2[::-1])\n",
    "\n",
    "\n",
    "string3 = \"dffdfPkyktkhkokn\"\n",
    "# Skip the first 5 characters and then skip every second character\n",
    "print(string3[5::2])  # Output: Python\n",
    "\n",
    "#lst from 0-9\n",
    "list1 = list(range(10))\n",
    "print(list1) \n",
    "\n",
    "#lst from 1-9\n",
    "list2 = list(range(1, 10))\n",
    "print(list2)\n",
    "\n",
    "\n",
    "#lst -9-9, skipping every 2\n",
    "list3 = list(range(-9, 10, 2))\n",
    "print(list3)\n",
    "\n",
    "#append 10 to lst3\n",
    "list3.append(10)\n",
    "print(list3)\n",
    "\n",
    "#check index value -1\n",
    "index = list3.index(-1)\n",
    "print(index)\n",
    "\n",
    "#remove the value 10\n",
    "list3.pop()\n",
    "print(list3)\n",
    "\n"
   ]
  },
  {
   "cell_type": "code",
   "execution_count": 11,
   "metadata": {},
   "outputs": [],
   "source": [
    "#home work in TDS\n",
    "\n",
    "# sort tupples (name, age, height)\n",
    "\n",
    "given_tuples = [('tom', 19, 80), \n",
    "                ('john', 20, 90),\n",
    "                ('jony', 17, 91), \n",
    "                ('jony', 17, 93), \n",
    "                ('json', 21, 85)]"
   ]
  },
  {
   "cell_type": "code",
   "execution_count": 7,
   "metadata": {},
   "outputs": [
    {
     "data": {
      "text/plain": [
       "[('john', 20, 90),\n",
       " ('jony', 17, 91),\n",
       " ('jony', 17, 93),\n",
       " ('json', 21, 85),\n",
       " ('tom', 19, 80)]"
      ]
     },
     "execution_count": 7,
     "metadata": {},
     "output_type": "execute_result"
    }
   ],
   "source": [
    "#using lambda function\n",
    "sorted_data = sorted(given_tuples, key=lambda x: (x[0], x[1], x[2]))\n",
    "sorted_data"
   ]
  },
  {
   "cell_type": "code",
   "execution_count": 14,
   "metadata": {},
   "outputs": [
    {
     "name": "stdout",
     "output_type": "stream",
     "text": [
      "[('john', 20, 90), ('jony', 17, 91), ('jony', 17, 93), ('json', 21, 85), ('tom', 19, 80)]\n"
     ]
    }
   ],
   "source": [
    "# Define the custom sorting function\n",
    "def sort_key(given_tuples):\n",
    "    return (given_tuples[0], given_tuples[1], given_tuples[2])\n",
    "\n",
    "# Sort the list using the custom sort key\n",
    "given_tuples.sort(key=sort_key)\n",
    "\n",
    "# Print the sorted list\n",
    "print(given_tuples)"
   ]
  }
 ],
 "metadata": {
  "kernelspec": {
   "display_name": "Python 3",
   "language": "python",
   "name": "python3"
  },
  "language_info": {
   "codemirror_mode": {
    "name": "ipython",
    "version": 3
   },
   "file_extension": ".py",
   "mimetype": "text/x-python",
   "name": "python",
   "nbconvert_exporter": "python",
   "pygments_lexer": "ipython3",
   "version": "3.11.7"
  }
 },
 "nbformat": 4,
 "nbformat_minor": 2
}
